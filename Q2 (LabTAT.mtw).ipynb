{
 "cells": [
  {
   "cell_type": "markdown",
   "id": "947b96aa",
   "metadata": {},
   "source": [
    "#### (Null Hypothesis) H0   Lab 1= Lab 2=Lab 3= Lab 4\n",
    "#### (Altenative Hypothesis) HA  At least one of them is different\n"
   ]
  },
  {
   "cell_type": "code",
   "execution_count": 1,
   "id": "def0563b",
   "metadata": {},
   "outputs": [],
   "source": [
    "import pandas as pd\n",
    "from scipy import stats"
   ]
  },
  {
   "cell_type": "code",
   "execution_count": 2,
   "id": "bea32f27",
   "metadata": {},
   "outputs": [],
   "source": [
    "df=pd.read_csv(r\"E:\\Data Science\\Assignment3\\LabTAT.csv\")"
   ]
  },
  {
   "cell_type": "code",
   "execution_count": 3,
   "id": "5a5fa1ad",
   "metadata": {},
   "outputs": [],
   "source": [
    "df.head()"
   ]
  },
  {
   "cell_type": "code",
   "execution_count": 4,
   "id": "c28a24fc",
   "metadata": {},
   "outputs": [],
   "source": [
    "# Performing annova test on the above dataset "
   ]
  },
  {
   "cell_type": "code",
   "execution_count": 5,
   "id": "310309d5",
   "metadata": {},
   "outputs": [],
   "source": [
    "statistics,pvalue=stats.f_oneway(df.iloc[:,0],df.iloc[:,1],df.iloc[:,2],df.iloc[:,3])"
   ]
  },
  {
   "cell_type": "code",
   "execution_count": 6,
   "id": "f5b86a07",
   "metadata": {},
   "outputs": [],
   "source": [
    "statistics"
   ]
  },
  {
   "cell_type": "code",
   "execution_count": 7,
   "id": "aba5de35",
   "metadata": {},
   "outputs": [],
   "source": [
    "pvalue"
   ]
  },
  {
   "cell_type": "code",
   "execution_count": 8,
   "id": "85bddc00",
   "metadata": {},
   "outputs": [],
   "source": [
    "# As we are determining with the 5% significance level the alpha value is 0.05"
   ]
  },
  {
   "cell_type": "markdown",
   "id": "91f74190",
   "metadata": {},
   "source": [
    "### alpha > p-value \n",
    "### 0.05> pvalue (2.1156708949992414e-57)"
   ]
  },
  {
   "cell_type": "markdown",
   "id": "87e380fe",
   "metadata": {},
   "source": [
    "#### We Reject the null hypothesis "
   ]
  },
  {
   "cell_type": "markdown",
   "id": "55ca0c7f",
   "metadata": {},
   "source": [
    "## Statement : There is difference in the average Turn Around Time (TAT) of reports of the laboratories on their preferred list"
   ]
  },
  {
   "cell_type": "code",
   "execution_count": null,
   "id": "06c1188b",
   "metadata": {},
   "outputs": [],
   "source": []
  }
 ],
 "metadata": {
  "kernelspec": {
   "display_name": "Python 3 (ipykernel)",
   "language": "python",
   "name": "python3"
  },
  "language_info": {
   "codemirror_mode": {
    "name": "ipython",
    "version": 3
   },
   "file_extension": ".py",
   "mimetype": "text/x-python",
   "name": "python",
   "nbconvert_exporter": "python",
   "pygments_lexer": "ipython3",
   "version": "3.11.3"
  }
 },
 "nbformat": 4,
 "nbformat_minor": 5
}
